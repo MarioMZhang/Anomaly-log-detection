{
  "nbformat": 4,
  "nbformat_minor": 0,
  "metadata": {
    "colab": {
      "name": "LINE_GMM.ipynb",
      "provenance": [],
      "collapsed_sections": []
    },
    "kernelspec": {
      "name": "python3",
      "display_name": "Python 3"
    },
    "language_info": {
      "name": "python"
    }
  },
  "cells": [
    {
      "cell_type": "code",
      "metadata": {
        "colab": {
          "base_uri": "https://localhost:8080/"
        },
        "id": "OW-1rcs6Q6Os",
        "outputId": "0c9dca2e-4402-47b1-f09d-44df4281b141"
      },
      "source": [
        "from google.colab import drive\n",
        "drive.mount('/content/drive')\n",
        "%cd /content/drive/'My Drive'/'CS 247'/'Project'\n",
        "%ls"
      ],
      "execution_count": 1,
      "outputs": [
        {
          "output_type": "stream",
          "text": [
            "Mounted at /content/drive\n",
            "/content/drive/My Drive/CS 247/Project\n",
            "deeplog.ipynb  deeplog_mlm.ipynb  LINE_GMM.ipynb  \u001b[0m\u001b[01;34mloglizer\u001b[0m/  \u001b[01;34mnulog\u001b[0m/\n"
          ],
          "name": "stdout"
        }
      ]
    },
    {
      "cell_type": "code",
      "metadata": {
        "colab": {
          "base_uri": "https://localhost:8080/"
        },
        "id": "fksGpkuAQ9Y4",
        "outputId": "edf2e96b-1df0-43f0-e153-c6338bfb6c0a"
      },
      "source": [
        "%cd loglizer\n",
        "from loglizer import dataloader, preprocessing"
      ],
      "execution_count": 2,
      "outputs": [
        {
          "output_type": "stream",
          "text": [
            "/content/drive/My Drive/CS 247/Project/loglizer\n"
          ],
          "name": "stdout"
        }
      ]
    },
    {
      "cell_type": "code",
      "metadata": {
        "id": "yhnzhpmLRGcS"
      },
      "source": [
        "#struct_log = '../MyData/' # The structured log file\n",
        "#label_file = '../MyData/anomaly_label.csv' # The anomaly label file\n",
        "curr_path = \"/content/drive/My Drive/CS 247/Project/loglizer\"\n",
        "#struct_log = '/content/drive/MyDrive/CS 247/Project/loglizer/data/HDFS/HDFS.npz'\n",
        "struct_log = '/content/drive/MyDrive/CS 247/Project/loglizer/data/HDFS/HDFS_100k.log_structured.csv'\n",
        "label_file = '/content/drive/MyDrive/CS 247/Project/loglizer/data/HDFS/anomaly_label.csv' # The anomaly label file"
      ],
      "execution_count": 3,
      "outputs": []
    },
    {
      "cell_type": "code",
      "metadata": {
        "id": "jqt_za8pRUv5"
      },
      "source": [
        "train_ratio = 0.5"
      ],
      "execution_count": 4,
      "outputs": []
    },
    {
      "cell_type": "code",
      "metadata": {
        "colab": {
          "base_uri": "https://localhost:8080/"
        },
        "id": "DOO5cnh4RSNR",
        "outputId": "a1b6df05-fb49-412d-ee72-409d9c7d1731"
      },
      "source": [
        "(X_train, y_train), (X_test, y_test), df = dataloader.load_HDFS(struct_log,\n",
        "                                                            label_file=label_file,\n",
        "                                                            window='session', \n",
        "                                                            train_ratio=train_ratio,\n",
        "                                                            split_type='uniform')"
      ],
      "execution_count": 5,
      "outputs": [
        {
          "output_type": "stream",
          "text": [
            "====== Input data summary ======\n",
            "Loading /content/drive/MyDrive/CS 247/Project/loglizer/data/HDFS/HDFS_100k.log_structured.csv\n",
            "156 157\n",
            "Total: 7940 instances, 313 anomaly, 7627 normal\n",
            "Train: 3969 instances, 156 anomaly, 3813 normal\n",
            "Test: 3971 instances, 157 anomaly, 3814 normal\n",
            "\n"
          ],
          "name": "stdout"
        }
      ]
    },
    {
      "cell_type": "code",
      "metadata": {
        "id": "213ZklgJRSoQ"
      },
      "source": [
        "# import necessary libraries\n",
        "\n",
        "import torch\n",
        "import torch.nn as nn\n",
        "import torch.nn.functional as F\n",
        "import torch.optim as optim\n",
        "import matplotlib.pyplot as plt\n",
        "from tqdm import trange \n",
        "from sklearn.manifold import TSNE\n",
        "from sklearn.metrics.pairwise import cosine_similarity\n",
        "import seaborn as sb\n",
        "import networkx as nx\n",
        "import numpy as np\n",
        "from scipy.linalg import sqrtm \n",
        "from numpy import linalg as LA\n",
        "\n",
        "import numpy as np\n",
        "from sklearn.mixture import GaussianMixture\n",
        "from sklearn.metrics import classification_report"
      ],
      "execution_count": 29,
      "outputs": []
    },
    {
      "cell_type": "code",
      "metadata": {
        "id": "VgrFSLxOReTr"
      },
      "source": [
        "class Embedding(nn.Module):\n",
        "    def __init__(self, size, embed_dim=8):\n",
        "        super(Embedding, self).__init__()\n",
        "\n",
        "        self.embed_dim = embed_dim\n",
        "        self.nodes_embeddings = nn.Embedding(size, embed_dim)\n",
        "\n",
        "        # Initialization\n",
        "        self.nodes_embeddings.weight.data = self.nodes_embeddings.weight.data.uniform_(-.5, .5) / embed_dim\n",
        "\n",
        "    def loss(self, v_i, v_j, negsamples):\n",
        "        \n",
        "        v_i = self.nodes_embeddings(v_i) \n",
        "        v_j = self.nodes_embeddings(v_j) \n",
        "        negsamples = -1 * self.nodes_embeddings(negsamples)\n",
        "        pos_pair_loss = torch.mul(v_i, v_j) \n",
        "        pos_pair_loss = F.logsigmoid(torch.sum(pos_pair_loss, dim=1)) \n",
        "\n",
        "        neg_pair_loss = torch.mul(v_i.view(-1, 1, self.embed_dim), negsamples)\n",
        "        neg_pair_loss = torch.sum(neg_pair_loss, dim=2) \n",
        "        neg_pair_loss = torch.sum(F.logsigmoid(neg_pair_loss),dim=1) \n",
        "        \n",
        "        contrastive_loss = pos_pair_loss + neg_pair_loss \n",
        "\n",
        "        return torch.mean(contrastive_loss) * -1\n",
        "        "
      ],
      "execution_count": 7,
      "outputs": []
    },
    {
      "cell_type": "code",
      "metadata": {
        "id": "rdw3nEA-Rf37"
      },
      "source": [
        "#     generating batches of data.\n",
        "\n",
        "def makeData(samplededges, negsamplesize, degree):\n",
        "    sampledNodes = set()\n",
        "    nodesProb = []\n",
        "    sumofDegree = 0\n",
        "    for e in samplededges:\n",
        "        sampledNodes.add(e[0])\n",
        "        sampledNodes.add(e[1])\n",
        "    sampledNodes = list(sampledNodes)\n",
        "    nodesProb = [pow(degree[v],3/4) for v in sampledNodes]\n",
        "    sumofDegree = sum(nodesProb)\n",
        "    nodesProb[:] = [x/sumofDegree for x in nodesProb]\n",
        "\n",
        "    for e in samplededges:\n",
        "        sourcenode, targetnode = e[0], e[1]\n",
        "        negnodes = []\n",
        "        negsamples = 0\n",
        "        while negsamples < negsamplesize:\n",
        "            samplednode = np.random.choice(sampledNodes, p = nodesProb)\n",
        "            \n",
        "            if (samplednode == sourcenode) or (samplednode == targetnode):\n",
        "                continue\n",
        "            else:\n",
        "                negsamples += 1\n",
        "                negnodes += [samplednode]\n",
        "        yield [e[0], e[1]] + negnodes\n",
        "\n",
        "        \n"
      ],
      "execution_count": 8,
      "outputs": []
    },
    {
      "cell_type": "code",
      "metadata": {
        "id": "goiWR9YrRi0M"
      },
      "source": [
        "def get_degree(X_train, window_size):\n",
        "  nodes = set()\n",
        "  nodes_d = {}\n",
        "  for seq in X_train:\n",
        "    if window_size == 1:\n",
        "      for event in seq:\n",
        "        nodes.add(event)\n",
        "        nodes_d[event] = nodes_d.get(event, 0) + 1\n",
        "    else:\n",
        "      m = len(seq)\n",
        "      for i in range(m+1 - window_size):\n",
        "        event = tuple(seq[i:i+window_size])\n",
        "        nodes.add(event)\n",
        "        nodes_d[event] = nodes_d.get(event, 0) + 1\n",
        "  return nodes_d \n",
        "\n",
        "def create_edges(samples):\n",
        "  edges = []\n",
        "  for seq in samples:\n",
        "    m = len(seq)\n",
        "    for i in range(m-1):\n",
        "      edges.append([seq[i], seq[i+1]])\n",
        "  return edges"
      ],
      "execution_count": 9,
      "outputs": []
    },
    {
      "cell_type": "markdown",
      "metadata": {
        "id": "7N6UH7yGRosI"
      },
      "source": [
        "#### Train"
      ]
    },
    {
      "cell_type": "code",
      "metadata": {
        "id": "zbjb_uLgRlrA"
      },
      "source": [
        "degree = get_degree(X_train, window_size= 1)"
      ],
      "execution_count": 10,
      "outputs": []
    },
    {
      "cell_type": "code",
      "metadata": {
        "id": "HGJAl9TbRr7S"
      },
      "source": [
        "node_to_ind = {x:i for i,x in enumerate(degree.keys())}"
      ],
      "execution_count": 11,
      "outputs": []
    },
    {
      "cell_type": "code",
      "metadata": {
        "id": "kaWJp1TYT-Vt"
      },
      "source": [
        "def train(X_train, degree, node_to_ind, \n",
        "          n_epochs = 100, neg_size = 3, n_batches = 3, batch_size = 10):\n",
        "  \n",
        "  # training\n",
        "\n",
        "  embed = Embedding(len(degree), embed_dim=8)\n",
        "  opt = optim.Adam(embed.parameters())\n",
        "  \n",
        "  for epoch in range(n_epochs):\n",
        "      for b in trange(n_batches):\n",
        "          opt.zero_grad()\n",
        "          edge_idx = np.random.choice(len(X_train), batch_size)\n",
        "          samplededges = create_edges(X_train[edge_idx])\n",
        "          \n",
        "          batch = list(makeData(samplededges, neg_size, degree))\n",
        "          recoded_batch = []\n",
        "          for seq in batch:\n",
        "            recoded_batch.append([node_to_ind[e] for e in seq])\n",
        "\n",
        "          batch = torch.LongTensor(recoded_batch)\n",
        "          \n",
        "          # based on the generated batch, train LINE via minimizing the loss.\n",
        "          v_i = batch[:,0]\n",
        "          v_j = batch[:,1]\n",
        "          negsamples =  batch[:,2:]\n",
        "          loss = embed.loss(v_i, v_j, negsamples)\n",
        "          loss.backward()\n",
        "          opt.step()\n",
        "\n",
        "  # TSNE visualization, with node id on\n",
        "  event_emb  = embed.nodes_embeddings.weight.data.numpy()\n",
        "\n",
        "  train_emb = np.zeros((X_train.shape[0], event_emb.shape[1]))\n",
        "  for i,seq in enumerate(X_train):\n",
        "    translated_seq = [node_to_ind[e] for e in seq]\n",
        "    for ind in translated_seq:\n",
        "      #print(ind)\n",
        "      train_emb[i] += event_emb[ind]\n",
        "\n",
        "  return event_emb, train_emb\n",
        "\n",
        "\n",
        "def fit_pred(train_emb, event_emb, y_train, X_test, y_test, node_to_ind, n_clusters = 4, plot = False):\n",
        "  gm = GaussianMixture(n_components=n_clusters, random_state=0).fit(train_emb)\n",
        "  train_preds = []\n",
        "\n",
        "  for emb in train_emb:\n",
        "    train_preds.append(gm.predict(emb.reshape(1, -1)))\n",
        "\n",
        "  train_preds = np.array(train_preds)\n",
        "\n",
        "  c_labels = []\n",
        "  for i in range(n_clusters):\n",
        "    cluster_ones = np.sum(y_train[(train_preds == i).ravel()])\n",
        "    cluster_size = np.sum(train_preds == i)\n",
        "    c_labels.append(round(cluster_ones/cluster_size))\n",
        "    #print(i, sum(train_preds == i), np.sum(y_train[(train_preds == i).ravel()]))\n",
        "  \n",
        "  test_emb = np.zeros((X_test.shape[0], event_emb.shape[1]))\n",
        "  for i,seq in enumerate(X_test):\n",
        "    translated_seq = []\n",
        "    for e in seq:\n",
        "      if e in node_to_ind:\n",
        "        translated_seq.append(node_to_ind[e])\n",
        "    for ind in translated_seq:\n",
        "      test_emb[i] += event_emb[ind]\n",
        "\n",
        "  if plot:\n",
        "    tsne_emb = TSNE(n_components = 2, perplexity = 5, learning_rate = 10).fit_transform(test_emb)\n",
        "\n",
        "    plt.scatter(tsne_emb[:,0], tsne_emb[:,1])\n",
        "    for i in range(len(tsne_emb)):\n",
        "        plt.annotate(str(i), xy=(tsne_emb[i,0], tsne_emb[i,1]))\n",
        "    plt.show()\n",
        "\n",
        "\n",
        "  test_pred = []\n",
        "  test_min_dists = []\n",
        "  for emb in test_emb:\n",
        "    dists = (emb - gm.means_)\n",
        "    dists = np.apply_along_axis(np.linalg.norm, 1, dists)\n",
        "    test_min_dists.append(np.min(dists))\n",
        "    test_pred.append(c_labels[gm.predict(emb[np.newaxis, :])[0]])\n",
        "\n",
        "  print(classification_report(y_test, test_pred))\n",
        "      "
      ],
      "execution_count": 37,
      "outputs": []
    },
    {
      "cell_type": "code",
      "metadata": {
        "colab": {
          "base_uri": "https://localhost:8080/"
        },
        "id": "OM-HG5UYDjEG",
        "outputId": "c1933fe7-da9a-4163-e75f-2a82dd077de4"
      },
      "source": [
        "event_emb, train_emb = train(X_train, degree, node_to_ind, \\\n",
        "          n_epochs = 100, neg_size = 3, n_batches = 3, batch_size = 10)"
      ],
      "execution_count": 19,
      "outputs": [
        {
          "output_type": "stream",
          "text": [
            "100%|██████████| 3/3 [00:00<00:00, 44.28it/s]\n",
            "100%|██████████| 3/3 [00:00<00:00, 30.92it/s]\n",
            "100%|██████████| 3/3 [00:00<00:00, 35.56it/s]\n",
            "100%|██████████| 3/3 [00:00<00:00, 49.17it/s]\n",
            "100%|██████████| 3/3 [00:00<00:00, 51.22it/s]\n",
            "100%|██████████| 3/3 [00:00<00:00, 43.45it/s]\n",
            "100%|██████████| 3/3 [00:00<00:00, 37.68it/s]\n",
            "100%|██████████| 3/3 [00:00<00:00, 51.67it/s]\n",
            "100%|██████████| 3/3 [00:00<00:00, 26.01it/s]\n",
            "100%|██████████| 3/3 [00:00<00:00, 46.68it/s]\n",
            "100%|██████████| 3/3 [00:00<00:00, 46.13it/s]\n",
            "100%|██████████| 3/3 [00:00<00:00, 50.81it/s]\n",
            "100%|██████████| 3/3 [00:00<00:00, 57.10it/s]\n",
            "100%|██████████| 3/3 [00:00<00:00, 55.84it/s]\n",
            "100%|██████████| 3/3 [00:00<00:00, 60.24it/s]\n",
            "100%|██████████| 3/3 [00:00<00:00, 43.10it/s]\n",
            "100%|██████████| 3/3 [00:00<00:00, 38.72it/s]\n",
            "100%|██████████| 3/3 [00:00<00:00, 54.29it/s]\n",
            "100%|██████████| 3/3 [00:00<00:00, 56.69it/s]\n",
            "100%|██████████| 3/3 [00:00<00:00, 41.97it/s]\n",
            "100%|██████████| 3/3 [00:00<00:00, 50.68it/s]\n",
            "100%|██████████| 3/3 [00:00<00:00, 55.86it/s]\n",
            "100%|██████████| 3/3 [00:00<00:00, 47.91it/s]\n",
            "100%|██████████| 3/3 [00:00<00:00, 54.18it/s]\n",
            "100%|██████████| 3/3 [00:00<00:00, 49.39it/s]\n",
            "100%|██████████| 3/3 [00:00<00:00, 58.20it/s]\n",
            "100%|██████████| 3/3 [00:00<00:00, 43.41it/s]\n",
            "100%|██████████| 3/3 [00:00<00:00, 60.08it/s]\n",
            "100%|██████████| 3/3 [00:00<00:00, 58.43it/s]\n",
            "100%|██████████| 3/3 [00:00<00:00, 30.64it/s]\n",
            "100%|██████████| 3/3 [00:00<00:00, 52.20it/s]\n",
            "100%|██████████| 3/3 [00:00<00:00, 48.63it/s]\n",
            "100%|██████████| 3/3 [00:00<00:00, 34.09it/s]\n",
            "100%|██████████| 3/3 [00:00<00:00, 44.10it/s]\n",
            "100%|██████████| 3/3 [00:00<00:00, 58.14it/s]\n",
            "100%|██████████| 3/3 [00:00<00:00, 53.93it/s]\n",
            "100%|██████████| 3/3 [00:00<00:00, 46.59it/s]\n",
            "100%|██████████| 3/3 [00:00<00:00, 37.53it/s]\n",
            "100%|██████████| 3/3 [00:00<00:00, 51.10it/s]\n",
            "100%|██████████| 3/3 [00:00<00:00, 49.23it/s]\n",
            "100%|██████████| 3/3 [00:00<00:00, 50.74it/s]\n",
            "100%|██████████| 3/3 [00:00<00:00, 54.23it/s]\n",
            "100%|██████████| 3/3 [00:00<00:00, 52.50it/s]\n",
            "100%|██████████| 3/3 [00:00<00:00, 43.17it/s]\n",
            "100%|██████████| 3/3 [00:00<00:00, 45.55it/s]\n",
            "100%|██████████| 3/3 [00:00<00:00, 48.21it/s]\n",
            "100%|██████████| 3/3 [00:00<00:00, 36.48it/s]\n",
            "100%|██████████| 3/3 [00:00<00:00, 38.55it/s]\n",
            "100%|██████████| 3/3 [00:00<00:00, 44.45it/s]\n",
            "100%|██████████| 3/3 [00:00<00:00, 40.46it/s]\n",
            "100%|██████████| 3/3 [00:00<00:00, 36.16it/s]\n",
            "100%|██████████| 3/3 [00:00<00:00, 53.67it/s]\n",
            "100%|██████████| 3/3 [00:00<00:00, 41.39it/s]\n",
            "100%|██████████| 3/3 [00:00<00:00, 48.78it/s]\n",
            "100%|██████████| 3/3 [00:00<00:00, 31.53it/s]\n",
            "100%|██████████| 3/3 [00:00<00:00, 39.74it/s]\n",
            "100%|██████████| 3/3 [00:00<00:00, 24.22it/s]\n",
            "100%|██████████| 3/3 [00:00<00:00, 41.47it/s]\n",
            "100%|██████████| 3/3 [00:00<00:00, 44.09it/s]\n",
            "100%|██████████| 3/3 [00:00<00:00, 47.61it/s]\n",
            "100%|██████████| 3/3 [00:00<00:00, 38.79it/s]\n",
            "100%|██████████| 3/3 [00:00<00:00, 46.01it/s]\n",
            "100%|██████████| 3/3 [00:00<00:00, 37.13it/s]\n",
            "100%|██████████| 3/3 [00:00<00:00, 35.29it/s]\n",
            "100%|██████████| 3/3 [00:00<00:00, 24.85it/s]\n",
            "100%|██████████| 3/3 [00:00<00:00, 46.37it/s]\n",
            "100%|██████████| 3/3 [00:00<00:00, 42.62it/s]\n",
            "100%|██████████| 3/3 [00:00<00:00, 36.07it/s]\n",
            "100%|██████████| 3/3 [00:00<00:00, 44.08it/s]\n",
            "100%|██████████| 3/3 [00:00<00:00, 52.06it/s]\n",
            "100%|██████████| 3/3 [00:00<00:00, 40.43it/s]\n",
            "100%|██████████| 3/3 [00:00<00:00, 34.31it/s]\n",
            "100%|██████████| 3/3 [00:00<00:00, 45.19it/s]\n",
            "100%|██████████| 3/3 [00:00<00:00, 46.90it/s]\n",
            "100%|██████████| 3/3 [00:00<00:00, 51.09it/s]\n",
            "100%|██████████| 3/3 [00:00<00:00, 42.69it/s]\n",
            "100%|██████████| 3/3 [00:00<00:00, 51.87it/s]\n",
            "100%|██████████| 3/3 [00:00<00:00, 52.10it/s]\n",
            "100%|██████████| 3/3 [00:00<00:00, 52.23it/s]\n",
            "100%|██████████| 3/3 [00:00<00:00, 51.73it/s]\n",
            "100%|██████████| 3/3 [00:00<00:00, 44.60it/s]\n",
            "100%|██████████| 3/3 [00:00<00:00, 54.73it/s]\n",
            "100%|██████████| 3/3 [00:00<00:00, 40.33it/s]\n",
            "100%|██████████| 3/3 [00:00<00:00, 59.37it/s]\n",
            "100%|██████████| 3/3 [00:00<00:00, 43.95it/s]\n",
            "100%|██████████| 3/3 [00:00<00:00, 38.52it/s]\n",
            "100%|██████████| 3/3 [00:00<00:00, 54.88it/s]\n",
            "100%|██████████| 3/3 [00:00<00:00, 54.35it/s]\n",
            "100%|██████████| 3/3 [00:00<00:00, 50.09it/s]\n",
            "100%|██████████| 3/3 [00:00<00:00, 53.85it/s]\n",
            "100%|██████████| 3/3 [00:00<00:00, 46.22it/s]\n",
            "100%|██████████| 3/3 [00:00<00:00, 43.69it/s]\n",
            "100%|██████████| 3/3 [00:00<00:00, 38.09it/s]\n",
            "100%|██████████| 3/3 [00:00<00:00, 53.67it/s]\n",
            "100%|██████████| 3/3 [00:00<00:00, 40.12it/s]\n",
            "100%|██████████| 3/3 [00:00<00:00, 46.77it/s]\n",
            "100%|██████████| 3/3 [00:00<00:00, 48.29it/s]\n",
            "100%|██████████| 3/3 [00:00<00:00, 45.73it/s]\n",
            "100%|██████████| 3/3 [00:00<00:00, 31.12it/s]\n",
            "100%|██████████| 3/3 [00:00<00:00, 46.30it/s]\n"
          ],
          "name": "stderr"
        }
      ]
    },
    {
      "cell_type": "code",
      "metadata": {
        "colab": {
          "base_uri": "https://localhost:8080/",
          "height": 264
        },
        "id": "g13V65qyRune",
        "outputId": "9d7ee207-c28c-448e-f3fa-b9606000babd"
      },
      "source": [
        "# TSNE visualization, with node id on\n",
        "tsne_emb = TSNE(n_components = 2, perplexity = 5, learning_rate = 10).fit_transform(event_emb)\n",
        "\n",
        "plt.scatter(tsne_emb[:,0], tsne_emb[:,1])\n",
        "for i in range(len(tsne_emb)):\n",
        "    plt.annotate(str(i), xy=(tsne_emb[i,0], tsne_emb[i,1]))\n",
        "plt.show()\n",
        "\n"
      ],
      "execution_count": 20,
      "outputs": [
        {
          "output_type": "display_data",
          "data": {
            "image/png": "[encoded data removed]",
            "text/plain": [
              "<Figure size 432x288 with 1 Axes>"
            ]
          },
          "metadata": {
            "tags": [],
            "needs_background": "light"
          }
        }
      ]
    },
    {
      "cell_type": "code",
      "metadata": {
        "colab": {
          "base_uri": "https://localhost:8080/",
          "height": 264
        },
        "id": "es5mbve7S354",
        "outputId": "5c357c9e-78db-4fa3-b2e4-43b565be9e72"
      },
      "source": [
        "tsne_emb = TSNE(n_components = 2, perplexity = 5, learning_rate = 10).fit_transform(train_emb)\n",
        "\n",
        "plt.scatter(tsne_emb[:,0], tsne_emb[:,1])\n",
        "for i in range(len(tsne_emb)):\n",
        "   plt.annotate(str(i), xy=(tsne_emb[i,0], tsne_emb[i,1]))\n",
        "plt.show()\n",
        "\n"
      ],
      "execution_count": 21,
      "outputs": [
        {
          "output_type": "display_data",
          "data": {
            "image/png": "[encoded data removed]",
            "text/plain": [
              "<Figure size 432x288 with 1 Axes>"
            ]
          },
          "metadata": {
            "tags": [],
            "needs_background": "light"
          }
        }
      ]
    },
    {
      "cell_type": "code",
      "metadata": {
        "colab": {
          "base_uri": "https://localhost:8080/",
          "height": 424
        },
        "id": "dKGUkBODQHEf",
        "outputId": "4206052e-32f3-49fb-8df6-0e0986127f23"
      },
      "source": [
        "fit_pred(train_emb, event_emb, y_train, X_test, y_test, node_to_ind, n_clusters, True)"
      ],
      "execution_count": 38,
      "outputs": [
        {
          "output_type": "display_data",
          "data": {
            "image/png": "[encoded data removed]",
            "text/plain": [
              "<Figure size 432x288 with 1 Axes>"
            ]
          },
          "metadata": {
            "tags": [],
            "needs_background": "light"
          }
        },
        {
          "output_type": "stream",
          "text": [
            "              precision    recall  f1-score   support\n",
            "\n",
            "           0       0.98      1.00      0.99      3814\n",
            "           1       0.99      0.43      0.60       157\n",
            "\n",
            "    accuracy                           0.98      3971\n",
            "   macro avg       0.98      0.71      0.79      3971\n",
            "weighted avg       0.98      0.98      0.97      3971\n",
            "\n"
          ],
          "name": "stdout"
        }
      ]
    },
    {
      "cell_type": "code",
      "metadata": {
        "colab": {
          "base_uri": "https://localhost:8080/"
        },
        "id": "PifgOEewPdFz",
        "outputId": "313fb887-e6d3-4634-8cef-ad6bce9fe567"
      },
      "source": [
        "fit_pred(train_emb, event_emb, y_train, X_test, y_test, node_to_ind, n_clusters)"
      ],
      "execution_count": 36,
      "outputs": [
        {
          "output_type": "stream",
          "text": [
            "              precision    recall  f1-score   support\n",
            "\n",
            "           0       0.98      1.00      0.99      3814\n",
            "           1       0.99      0.43      0.60       157\n",
            "\n",
            "    accuracy                           0.98      3971\n",
            "   macro avg       0.98      0.71      0.79      3971\n",
            "weighted avg       0.98      0.98      0.97      3971\n",
            "\n"
          ],
          "name": "stdout"
        }
      ]
    },
    {
      "cell_type": "code",
      "metadata": {
        "id": "NA6FQ-BJSNiL"
      },
      "source": [
        "test_pred = []\n",
        "test_min_dists = []\n",
        "for emb in test_emb:\n",
        "  dists = (emb - gm.means_)\n",
        "  dists = np.apply_along_axis(np.linalg.norm, 1, dists)\n",
        "  test_min_dists.append(np.min(dists))\n",
        "  test_pred.append(c_labels[gm.predict(emb[np.newaxis, :])[0]])\n",
        "\n"
      ],
      "execution_count": null,
      "outputs": []
    },
    {
      "cell_type": "markdown",
      "metadata": {
        "id": "tZ-plQaHQQzT"
      },
      "source": [
        "### MLM embedding"
      ]
    },
    {
      "cell_type": "code",
      "metadata": {
        "colab": {
          "base_uri": "https://localhost:8080/"
        },
        "id": "HeChjA350uTh",
        "outputId": "345fc694-60a8-4e06-be3b-0a4362e494aa"
      },
      "source": [
        "# import necessary libraries\n",
        "\n",
        "import torch\n",
        "import torch.nn as nn\n",
        "import torch.nn.functional as F\n",
        "import torch.optim as optim\n",
        "import matplotlib.pyplot as plt\n",
        "from tqdm import trange \n",
        "from sklearn.manifold import TSNE\n",
        "from sklearn.metrics.pairwise import cosine_similarity\n",
        "import seaborn as sb\n",
        "import networkx as nx\n",
        "import numpy as np\n",
        "from scipy.linalg import sqrtm \n",
        "from numpy import linalg as LA\n",
        "from logparser.NuLog import NuLogParser\n",
        "from logparser.utils import evaluator\n",
        "from tqdm import trange \n",
        "\n",
        "filters = '(\\s+blk_)|(:)|(\\s)'\n",
        "log_format = '<Date> <Time> <Pid> <Level> <Component>: <Content>'\n",
        "\n",
        "# parser = NuLogParser.LogParser(indir='logs/', outdir=None, filters=filters, k=15, log_format=log_format)\n",
        "# parser.logName = 'HDFS/HDFS_2k.log'\n",
        "# parser.mask_percentage = 1\n",
        "# parser.pad_len = 150\n",
        "# parser.num_samples = 0\n",
        "# parser.batch_size = 5\n",
        "\n",
        "parser = NuLogParser.LogParser(indir='logs/', outdir=None, filters=filters, k=15, log_format=log_format)\n",
        "parser.logName = 'HDFS/HDFS_2k.log'\n",
        "parser.mask_percentage = 1\n",
        "parser.pad_len = 150\n",
        "parser.num_samples = 0\n",
        "parser.batch_size = 5\n",
        "parser.step_size=10\n",
        "\n",
        "parser.load_data()\n",
        "\n",
        "df_len = parser.df_log.shape[0]\n",
        "data_tokenized = []\n",
        "\n",
        "for i in trange(0, df_len):\n",
        "  tokenized = parser.tokenizer.tokenize('<CLS> ' + parser.df_log.iloc[i].Content)\n",
        "  data_tokenized.append(tokenized)\n",
        "/\n",
        "train_dataloader, test_dataloader = parser.get_dataloaders(data_tokenized)\n",
        "criterion = nn.CrossEntropyLoss()\n",
        "model = parser.make_model(parser.tokenizer.n_words, parser.tokenizer.n_words, N=1, d_model=256, d_ff=256,\n",
        "                                dropout=0.1, max_len=150)\n",
        "model.cuda()\n",
        "model_opt = torch.optim.Adam(model.parameters(), lr=0.001, betas=(0.9, 0.999), weight_decay=0.005)\n",
        "\n",
        "for epoch in range(5):\n",
        "  model.train()\n",
        "  print(\"Epoch\", epoch)\n",
        "  parser.run_epoch(train_dataloader, model, SimpleLossCompute(model.generator, criterion, model_opt))"
      ],
      "execution_count": null,
      "outputs": [
        {
          "output_type": "stream",
          "text": [
            "100%|██████████| 2000/2000 [00:00<00:00, 3769.34it/s]\n",
            "/content/drive/My Drive/CS 247/Project/nulog/logparser/NuLog/NuLogParser.py:671: UserWarning: nn.init.xavier_uniform is now deprecated in favor of nn.init.xavier_uniform_.\n",
            "  nn.init.xavier_uniform(p)\n"
          ],
          "name": "stderr"
        },
        {
          "output_type": "stream",
          "text": [
            "Epoch 0\n",
            "Epoch Step: 1 / 400 Loss: 7.128345 Tokens per Sec: 1990.081299\n",
            "Epoch Step: 11 / 400 Loss: 4.207850 Tokens per Sec: 2106.392090\n",
            "Epoch Step: 21 / 400 Loss: 3.526587 Tokens per Sec: 2258.172363\n",
            "Epoch Step: 31 / 400 Loss: 3.516159 Tokens per Sec: 2164.906494\n",
            "Epoch Step: 41 / 400 Loss: 3.514543 Tokens per Sec: 2402.499756\n",
            "Epoch Step: 51 / 400 Loss: 3.293060 Tokens per Sec: 2187.998291\n",
            "Epoch Step: 61 / 400 Loss: 3.831567 Tokens per Sec: 2282.034668\n",
            "Epoch Step: 71 / 400 Loss: 3.225382 Tokens per Sec: 2247.920410\n",
            "Epoch Step: 81 / 400 Loss: 3.282794 Tokens per Sec: 2333.382324\n",
            "Epoch Step: 91 / 400 Loss: 3.124094 Tokens per Sec: 2376.494385\n",
            "Epoch Step: 101 / 400 Loss: 3.234235 Tokens per Sec: 2365.308838\n",
            "Epoch Step: 111 / 400 Loss: 2.625373 Tokens per Sec: 2308.339600\n",
            "Epoch Step: 121 / 400 Loss: 2.799823 Tokens per Sec: 2335.856934\n",
            "Epoch Step: 131 / 400 Loss: 2.773550 Tokens per Sec: 2235.403809\n",
            "Epoch Step: 141 / 400 Loss: 2.757038 Tokens per Sec: 2363.442139\n",
            "Epoch Step: 151 / 400 Loss: 2.941909 Tokens per Sec: 2283.362305\n",
            "Epoch Step: 161 / 400 Loss: 2.642267 Tokens per Sec: 2262.221680\n",
            "Epoch Step: 171 / 400 Loss: 2.505290 Tokens per Sec: 2373.711914\n",
            "Epoch Step: 181 / 400 Loss: 2.572010 Tokens per Sec: 2188.392578\n",
            "Epoch Step: 191 / 400 Loss: 2.197410 Tokens per Sec: 2258.369385\n",
            "Epoch Step: 201 / 400 Loss: 2.144060 Tokens per Sec: 2214.010010\n",
            "Epoch Step: 211 / 400 Loss: 2.088022 Tokens per Sec: 2197.605957\n",
            "Epoch Step: 221 / 400 Loss: 2.316712 Tokens per Sec: 2235.982666\n",
            "Epoch Step: 231 / 400 Loss: 2.793323 Tokens per Sec: 2280.111084\n",
            "Epoch Step: 241 / 400 Loss: 6.573905 Tokens per Sec: 2171.734131\n",
            "Epoch Step: 251 / 400 Loss: 2.346777 Tokens per Sec: 2179.258545\n",
            "Epoch Step: 261 / 400 Loss: 1.774425 Tokens per Sec: 2205.701904\n",
            "Epoch Step: 271 / 400 Loss: 2.148157 Tokens per Sec: 2230.138916\n",
            "Epoch Step: 281 / 400 Loss: 2.864714 Tokens per Sec: 2281.291260\n",
            "Epoch Step: 291 / 400 Loss: 2.192141 Tokens per Sec: 2188.365723\n",
            "Epoch Step: 301 / 400 Loss: 2.029590 Tokens per Sec: 2281.636719\n",
            "Epoch Step: 311 / 400 Loss: 2.432885 Tokens per Sec: 2281.100586\n",
            "Epoch Step: 321 / 400 Loss: 1.984928 Tokens per Sec: 2241.734375\n",
            "Epoch Step: 331 / 400 Loss: 1.856024 Tokens per Sec: 2329.176514\n",
            "Epoch Step: 341 / 400 Loss: 2.224471 Tokens per Sec: 2383.043701\n",
            "Epoch Step: 351 / 400 Loss: 1.840586 Tokens per Sec: 2286.610352\n",
            "Epoch Step: 361 / 400 Loss: 2.432425 Tokens per Sec: 2326.360840\n",
            "Epoch Step: 371 / 400 Loss: 2.359172 Tokens per Sec: 2242.363281\n",
            "Epoch Step: 381 / 400 Loss: 2.350142 Tokens per Sec: 2318.762695\n",
            "Epoch Step: 391 / 400 Loss: 2.246179 Tokens per Sec: 2428.465820\n",
            "Epoch 1\n",
            "Epoch Step: 1 / 400 Loss: 2.069613 Tokens per Sec: 2170.839355\n",
            "Epoch Step: 11 / 400 Loss: 1.521784 Tokens per Sec: 2325.046875\n",
            "Epoch Step: 21 / 400 Loss: 1.852495 Tokens per Sec: 2432.507080\n",
            "Epoch Step: 31 / 400 Loss: 2.265559 Tokens per Sec: 2364.708740\n",
            "Epoch Step: 41 / 400 Loss: 1.929915 Tokens per Sec: 2281.025879\n",
            "Epoch Step: 51 / 400 Loss: 1.973148 Tokens per Sec: 2107.078125\n",
            "Epoch Step: 61 / 400 Loss: 2.018714 Tokens per Sec: 2236.361572\n",
            "Epoch Step: 71 / 400 Loss: 1.541029 Tokens per Sec: 2126.090088\n",
            "Epoch Step: 81 / 400 Loss: 1.867651 Tokens per Sec: 2288.211182\n",
            "Epoch Step: 91 / 400 Loss: 1.584254 Tokens per Sec: 2256.704590\n",
            "Epoch Step: 101 / 400 Loss: 1.687058 Tokens per Sec: 2232.243164\n",
            "Epoch Step: 111 / 400 Loss: 1.957476 Tokens per Sec: 2133.697998\n",
            "Epoch Step: 121 / 400 Loss: 1.934214 Tokens per Sec: 2245.255127\n",
            "Epoch Step: 131 / 400 Loss: 2.048544 Tokens per Sec: 2169.795166\n",
            "Epoch Step: 141 / 400 Loss: 1.924194 Tokens per Sec: 2212.130859\n",
            "Epoch Step: 151 / 400 Loss: 1.203732 Tokens per Sec: 2175.048828\n",
            "Epoch Step: 161 / 400 Loss: 2.382316 Tokens per Sec: 2308.393066\n",
            "Epoch Step: 171 / 400 Loss: 2.191769 Tokens per Sec: 2325.300537\n",
            "Epoch Step: 181 / 400 Loss: 1.758528 Tokens per Sec: 2437.680420\n",
            "Epoch Step: 191 / 400 Loss: 1.794566 Tokens per Sec: 2344.908936\n",
            "Epoch Step: 201 / 400 Loss: 1.571216 Tokens per Sec: 2244.621094\n",
            "Epoch Step: 211 / 400 Loss: 1.622542 Tokens per Sec: 2356.164551\n",
            "Epoch Step: 221 / 400 Loss: 1.796094 Tokens per Sec: 2288.973877\n",
            "Epoch Step: 231 / 400 Loss: 2.443685 Tokens per Sec: 2343.956299\n",
            "Epoch Step: 241 / 400 Loss: 1.973940 Tokens per Sec: 2291.151123\n",
            "Epoch Step: 251 / 400 Loss: 1.799993 Tokens per Sec: 2297.134033\n",
            "Epoch Step: 261 / 400 Loss: 2.052524 Tokens per Sec: 2396.464600\n",
            "Epoch Step: 271 / 400 Loss: 1.566795 Tokens per Sec: 2315.913818\n",
            "Epoch Step: 281 / 400 Loss: 1.462608 Tokens per Sec: 2259.644043\n",
            "Epoch Step: 291 / 400 Loss: 1.423852 Tokens per Sec: 2404.214355\n",
            "Epoch Step: 301 / 400 Loss: 1.784916 Tokens per Sec: 2258.523193\n",
            "Epoch Step: 311 / 400 Loss: 2.088892 Tokens per Sec: 2378.764404\n",
            "Epoch Step: 321 / 400 Loss: 2.079030 Tokens per Sec: 2143.739014\n",
            "Epoch Step: 331 / 400 Loss: 1.869283 Tokens per Sec: 2208.628662\n",
            "Epoch Step: 341 / 400 Loss: 1.697310 Tokens per Sec: 2320.592773\n",
            "Epoch Step: 351 / 400 Loss: 1.795447 Tokens per Sec: 2220.241699\n",
            "Epoch Step: 361 / 400 Loss: 1.878103 Tokens per Sec: 2173.762207\n",
            "Epoch Step: 371 / 400 Loss: 1.644747 Tokens per Sec: 2190.497070\n",
            "Epoch Step: 381 / 400 Loss: 1.567332 Tokens per Sec: 2250.709473\n",
            "Epoch Step: 391 / 400 Loss: 1.543443 Tokens per Sec: 2352.074951\n",
            "Epoch 2\n",
            "Epoch Step: 1 / 400 Loss: 1.842245 Tokens per Sec: 2242.036133\n",
            "Epoch Step: 11 / 400 Loss: 1.482109 Tokens per Sec: 2207.880859\n",
            "Epoch Step: 21 / 400 Loss: 1.630694 Tokens per Sec: 2265.299561\n",
            "Epoch Step: 31 / 400 Loss: 1.271832 Tokens per Sec: 2151.327393\n",
            "Epoch Step: 41 / 400 Loss: 1.782960 Tokens per Sec: 2258.299316\n",
            "Epoch Step: 51 / 400 Loss: 1.993011 Tokens per Sec: 2236.167969\n",
            "Epoch Step: 61 / 400 Loss: 2.011243 Tokens per Sec: 2231.716309\n",
            "Epoch Step: 71 / 400 Loss: 1.625443 Tokens per Sec: 2376.323730\n",
            "Epoch Step: 81 / 400 Loss: 1.657706 Tokens per Sec: 2192.851562\n",
            "Epoch Step: 91 / 400 Loss: 1.512131 Tokens per Sec: 2244.514648\n",
            "Epoch Step: 101 / 400 Loss: 1.390867 Tokens per Sec: 2269.299561\n",
            "Epoch Step: 111 / 400 Loss: 1.683121 Tokens per Sec: 2323.053223\n",
            "Epoch Step: 121 / 400 Loss: 1.608515 Tokens per Sec: 2229.274170\n",
            "Epoch Step: 131 / 400 Loss: 2.040543 Tokens per Sec: 2215.448730\n",
            "Epoch Step: 141 / 400 Loss: 1.704327 Tokens per Sec: 2186.578857\n",
            "Epoch Step: 151 / 400 Loss: 1.861053 Tokens per Sec: 2351.033691\n",
            "Epoch Step: 161 / 400 Loss: 1.289106 Tokens per Sec: 2195.369141\n",
            "Epoch Step: 171 / 400 Loss: 1.836367 Tokens per Sec: 2291.667236\n",
            "Epoch Step: 181 / 400 Loss: 1.356566 Tokens per Sec: 2186.640625\n",
            "Epoch Step: 191 / 400 Loss: 1.577922 Tokens per Sec: 2191.528076\n",
            "Epoch Step: 201 / 400 Loss: 1.493661 Tokens per Sec: 2308.074951\n",
            "Epoch Step: 211 / 400 Loss: 1.602749 Tokens per Sec: 2269.032471\n",
            "Epoch Step: 221 / 400 Loss: 1.694448 Tokens per Sec: 2288.908936\n",
            "Epoch Step: 231 / 400 Loss: 1.462938 Tokens per Sec: 2258.359375\n",
            "Epoch Step: 241 / 400 Loss: 1.699654 Tokens per Sec: 2152.422363\n",
            "Epoch Step: 251 / 400 Loss: 1.636791 Tokens per Sec: 2283.244385\n",
            "Epoch Step: 261 / 400 Loss: 1.517428 Tokens per Sec: 2234.439209\n",
            "Epoch Step: 271 / 400 Loss: 1.907984 Tokens per Sec: 2236.239014\n",
            "Epoch Step: 281 / 400 Loss: 1.733183 Tokens per Sec: 2138.784424\n",
            "Epoch Step: 291 / 400 Loss: 1.708579 Tokens per Sec: 2304.344727\n",
            "Epoch Step: 301 / 400 Loss: 1.512626 Tokens per Sec: 2273.282959\n",
            "Epoch Step: 311 / 400 Loss: 2.278702 Tokens per Sec: 2231.351562\n",
            "Epoch Step: 321 / 400 Loss: 1.396702 Tokens per Sec: 2245.728027\n",
            "Epoch Step: 331 / 400 Loss: 1.842629 Tokens per Sec: 2317.999512\n",
            "Epoch Step: 341 / 400 Loss: 1.429823 Tokens per Sec: 2332.394775\n",
            "Epoch Step: 351 / 400 Loss: 1.641997 Tokens per Sec: 2343.806152\n",
            "Epoch Step: 361 / 400 Loss: 1.209045 Tokens per Sec: 2199.687744\n",
            "Epoch Step: 371 / 400 Loss: 1.638400 Tokens per Sec: 2343.609375\n",
            "Epoch Step: 381 / 400 Loss: 1.429770 Tokens per Sec: 2321.086182\n",
            "Epoch Step: 391 / 400 Loss: 1.370291 Tokens per Sec: 2347.443359\n",
            "Epoch 3\n",
            "Epoch Step: 1 / 400 Loss: 1.635025 Tokens per Sec: 2363.352051\n",
            "Epoch Step: 11 / 400 Loss: 1.774158 Tokens per Sec: 2358.421875\n",
            "Epoch Step: 21 / 400 Loss: 1.620140 Tokens per Sec: 2305.389893\n",
            "Epoch Step: 31 / 400 Loss: 1.317093 Tokens per Sec: 2333.765381\n",
            "Epoch Step: 41 / 400 Loss: 1.493219 Tokens per Sec: 2307.166504\n",
            "Epoch Step: 51 / 400 Loss: 1.451070 Tokens per Sec: 2352.646484\n",
            "Epoch Step: 61 / 400 Loss: 1.657245 Tokens per Sec: 2290.783447\n",
            "Epoch Step: 71 / 400 Loss: 1.535450 Tokens per Sec: 2182.409180\n",
            "Epoch Step: 81 / 400 Loss: 1.352130 Tokens per Sec: 2276.704346\n",
            "Epoch Step: 91 / 400 Loss: 1.225736 Tokens per Sec: 2277.661621\n",
            "Epoch Step: 101 / 400 Loss: 1.400852 Tokens per Sec: 2220.233154\n",
            "Epoch Step: 111 / 400 Loss: 1.209203 Tokens per Sec: 2281.801025\n",
            "Epoch Step: 121 / 400 Loss: 1.465722 Tokens per Sec: 2239.064941\n",
            "Epoch Step: 131 / 400 Loss: 1.432260 Tokens per Sec: 2236.616943\n",
            "Epoch Step: 141 / 400 Loss: 1.543213 Tokens per Sec: 2222.712402\n",
            "Epoch Step: 151 / 400 Loss: 1.415295 Tokens per Sec: 2187.400879\n",
            "Epoch Step: 161 / 400 Loss: 1.670511 Tokens per Sec: 2242.061523\n",
            "Epoch Step: 171 / 400 Loss: 1.417198 Tokens per Sec: 2109.135010\n",
            "Epoch Step: 181 / 400 Loss: 1.359530 Tokens per Sec: 2260.273926\n",
            "Epoch Step: 191 / 400 Loss: 1.373499 Tokens per Sec: 2290.900879\n",
            "Epoch Step: 201 / 400 Loss: 1.433853 Tokens per Sec: 2330.748047\n",
            "Epoch Step: 211 / 400 Loss: 1.330124 Tokens per Sec: 2254.057129\n",
            "Epoch Step: 221 / 400 Loss: 1.503751 Tokens per Sec: 2442.825684\n",
            "Epoch Step: 231 / 400 Loss: 1.447675 Tokens per Sec: 2286.571533\n",
            "Epoch Step: 241 / 400 Loss: 1.569461 Tokens per Sec: 2313.629150\n",
            "Epoch Step: 251 / 400 Loss: 1.538251 Tokens per Sec: 2339.328369\n",
            "Epoch Step: 261 / 400 Loss: 1.748755 Tokens per Sec: 2265.099854\n",
            "Epoch Step: 271 / 400 Loss: 1.543789 Tokens per Sec: 2342.410889\n",
            "Epoch Step: 281 / 400 Loss: 1.501878 Tokens per Sec: 2363.870605\n",
            "Epoch Step: 291 / 400 Loss: 1.348840 Tokens per Sec: 2341.291016\n",
            "Epoch Step: 301 / 400 Loss: 1.653914 Tokens per Sec: 2339.798340\n",
            "Epoch Step: 311 / 400 Loss: 1.430438 Tokens per Sec: 2307.460449\n",
            "Epoch Step: 321 / 400 Loss: 1.326666 Tokens per Sec: 2288.761475\n",
            "Epoch Step: 331 / 400 Loss: 1.737097 Tokens per Sec: 2305.571777\n",
            "Epoch Step: 341 / 400 Loss: 1.618200 Tokens per Sec: 2231.841553\n",
            "Epoch Step: 351 / 400 Loss: 1.243900 Tokens per Sec: 2300.540039\n",
            "Epoch Step: 361 / 400 Loss: 1.479759 Tokens per Sec: 2367.908691\n",
            "Epoch Step: 371 / 400 Loss: 1.373877 Tokens per Sec: 2260.343262\n",
            "Epoch Step: 381 / 400 Loss: 1.257823 Tokens per Sec: 2308.445557\n",
            "Epoch Step: 391 / 400 Loss: 1.505420 Tokens per Sec: 2277.928223\n",
            "Epoch 4\n",
            "Epoch Step: 1 / 400 Loss: 1.459519 Tokens per Sec: 2034.295044\n",
            "Epoch Step: 11 / 400 Loss: 1.752594 Tokens per Sec: 2264.252930\n",
            "Epoch Step: 21 / 400 Loss: 1.373010 Tokens per Sec: 2277.517822\n",
            "Epoch Step: 31 / 400 Loss: 1.337411 Tokens per Sec: 2210.809326\n",
            "Epoch Step: 41 / 400 Loss: 1.458881 Tokens per Sec: 2292.844727\n",
            "Epoch Step: 51 / 400 Loss: 1.549401 Tokens per Sec: 2310.404053\n",
            "Epoch Step: 61 / 400 Loss: 2.397200 Tokens per Sec: 2154.969482\n",
            "Epoch Step: 71 / 400 Loss: 1.654265 Tokens per Sec: 2200.556396\n",
            "Epoch Step: 81 / 400 Loss: 1.479791 Tokens per Sec: 2220.072266\n",
            "Epoch Step: 91 / 400 Loss: 1.792196 Tokens per Sec: 2242.013916\n",
            "Epoch Step: 101 / 400 Loss: 1.599729 Tokens per Sec: 2351.525879\n",
            "Epoch Step: 111 / 400 Loss: 1.691387 Tokens per Sec: 2321.609131\n",
            "Epoch Step: 121 / 400 Loss: 1.380043 Tokens per Sec: 2347.200439\n",
            "Epoch Step: 131 / 400 Loss: 1.119652 Tokens per Sec: 2367.570068\n",
            "Epoch Step: 141 / 400 Loss: 1.817989 Tokens per Sec: 2360.094971\n",
            "Epoch Step: 151 / 400 Loss: 1.658053 Tokens per Sec: 2393.284180\n",
            "Epoch Step: 161 / 400 Loss: 1.198653 Tokens per Sec: 2235.783691\n",
            "Epoch Step: 171 / 400 Loss: 1.448078 Tokens per Sec: 2343.274902\n",
            "Epoch Step: 181 / 400 Loss: 1.531942 Tokens per Sec: 2379.723633\n",
            "Epoch Step: 191 / 400 Loss: 1.669526 Tokens per Sec: 2368.939941\n",
            "Epoch Step: 201 / 400 Loss: 1.485002 Tokens per Sec: 2338.760742\n",
            "Epoch Step: 211 / 400 Loss: 1.853183 Tokens per Sec: 2102.374756\n",
            "Epoch Step: 221 / 400 Loss: 1.745531 Tokens per Sec: 2162.131592\n",
            "Epoch Step: 231 / 400 Loss: 1.544306 Tokens per Sec: 2247.421631\n",
            "Epoch Step: 241 / 400 Loss: 1.820156 Tokens per Sec: 2205.400879\n",
            "Epoch Step: 251 / 400 Loss: 1.666837 Tokens per Sec: 2183.919189\n",
            "Epoch Step: 261 / 400 Loss: 1.694141 Tokens per Sec: 2332.994141\n",
            "Epoch Step: 271 / 400 Loss: 1.520482 Tokens per Sec: 2243.789307\n",
            "Epoch Step: 281 / 400 Loss: 1.430398 Tokens per Sec: 2304.408936\n",
            "Epoch Step: 291 / 400 Loss: 1.401593 Tokens per Sec: 2243.551758\n",
            "Epoch Step: 301 / 400 Loss: 1.358387 Tokens per Sec: 2132.710449\n",
            "Epoch Step: 311 / 400 Loss: 1.392747 Tokens per Sec: 2282.542725\n",
            "Epoch Step: 321 / 400 Loss: 1.337794 Tokens per Sec: 2204.593506\n",
            "Epoch Step: 331 / 400 Loss: 1.538973 Tokens per Sec: 2209.077637\n",
            "Epoch Step: 341 / 400 Loss: 1.188366 Tokens per Sec: 2413.293457\n",
            "Epoch Step: 351 / 400 Loss: 0.938635 Tokens per Sec: 2252.317627\n",
            "Epoch Step: 361 / 400 Loss: 1.622763 Tokens per Sec: 2351.243408\n",
            "Epoch Step: 371 / 400 Loss: 1.599836 Tokens per Sec: 2368.527100\n",
            "Epoch Step: 381 / 400 Loss: 1.334866 Tokens per Sec: 2286.441650\n",
            "Epoch Step: 391 / 400 Loss: 1.515443 Tokens per Sec: 2399.405029\n"
          ],
          "name": "stdout"
        }
      ]
    }
  ]
}